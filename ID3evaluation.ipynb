{
 "cells": [
  {
   "cell_type": "code",
   "execution_count": null,
   "id": "9d74141e",
   "metadata": {},
   "outputs": [],
   "source": [
    "df = pd.read_csv(\"iris.csv\")\n",
    "\n",
    "train_df, test_df = train_test_split(df, test_size=0.3)"
   ]
  },
  {
   "cell_type": "markdown",
   "id": "85162d69",
   "metadata": {},
   "source": [
    "## Imports"
   ]
  },
  {
   "cell_type": "code",
   "execution_count": null,
   "id": "e5af8805",
   "metadata": {},
   "outputs": [],
   "source": [
    "import numpy as np\n",
    "import pandas as pd\n",
    "\n",
    "import matplotlib.pyplot as plt\n",
    "import seaborn as sns\n",
    "\n",
    "import random\n",
    "random.seed(0)\n",
    "from pprint import pprint"
   ]
  },
  {
   "cell_type": "code",
   "execution_count": 35,
   "id": "cc60293c",
   "metadata": {},
   "outputs": [],
   "source": [
    "%matplotlib inline\n",
    "sns.set_style(\"darkgrid\")"
   ]
  },
  {
   "cell_type": "markdown",
   "id": "5fd20bd0",
   "metadata": {},
   "source": [
    "# Load and Prepare Data"
   ]
  },
  {
   "cell_type": "markdown",
   "id": "be39a506",
   "metadata": {},
   "source": [
    "## Train-Test-Split"
   ]
  },
  {
   "cell_type": "code",
   "execution_count": 36,
   "id": "53a7a0da",
   "metadata": {},
   "outputs": [],
   "source": [
    "def train_test_split(df, test_size):\n",
    "    if isinstance(test_size, float): #Ver se o test_size é percentagem ou o valor de linhas\n",
    "        test_size = round(test_size * len(df))\n",
    "\n",
    "    indices = df.index.tolist()\n",
    "    test_indices = random.sample(population=indices, k=test_size)\n",
    "\n",
    "    test_df = df.loc[test_indices] #Acesso somente aos indices de test  \n",
    "    train_df = df.drop(test_indices)\n",
    "    \n",
    "    return train_df, test_df\n",
    "\n"
   ]
  },
  {
   "cell_type": "code",
   "execution_count": null,
   "id": "77540005",
   "metadata": {},
   "outputs": [],
   "source": [
    "train_df, test_df = train_test_split(df, test_size=0.3)"
   ]
  },
  {
   "cell_type": "markdown",
   "id": "aebb0291",
   "metadata": {},
   "source": [
    "#### Test Random"
   ]
  },
  {
   "cell_type": "code",
   "execution_count": null,
   "id": "f75f9251",
   "metadata": {},
   "outputs": [
    {
     "name": "stdout",
     "output_type": "stream",
     "text": [
      "Lista de teste: [35, 24, 64, 136, 37, 79, 25, 18, 84, 120, 143, 90, 111, 80, 52, 122, 113, 66, 15, 3, 23, 102, 0, 78, 63, 105, 137, 42, 31, 93]\n",
      "Lista de teste: [83, 16, 48, 145, 56, 61, 36, 139, 114, 23, 20, 81, 130, 125, 27, 77, 74, 31, 85, 52, 73, 113, 140, 76, 102, 49, 40, 129, 30, 37]\n",
      "Lista de teste: [47, 48, 149, 8, 66, 121, 17, 22, 33, 38, 9, 20, 100, 134, 70, 133, 60, 55, 107, 135, 115, 126, 91, 10, 41, 78, 14, 62, 75, 80]\n"
     ]
    }
   ],
   "source": [
    "for _ in range(3):\n",
    "    train_df, test_df = train_test_split(df, test_size=0.1)\n",
    "    print(\"Índices de teste:\", test_df.index.tolist())"
   ]
  }
 ],
 "metadata": {
  "kernelspec": {
   "display_name": "base",
   "language": "python",
   "name": "python3"
  },
  "language_info": {
   "codemirror_mode": {
    "name": "ipython",
    "version": 3
   },
   "file_extension": ".py",
   "mimetype": "text/x-python",
   "name": "python",
   "nbconvert_exporter": "python",
   "pygments_lexer": "ipython3",
   "version": "3.12.3"
  }
 },
 "nbformat": 4,
 "nbformat_minor": 5
}
